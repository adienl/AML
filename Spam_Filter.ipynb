{
 "cells": [
  {
   "cell_type": "code",
   "execution_count": 1,
   "metadata": {},
   "outputs": [
    {
     "name": "stdout",
     "text": [
      "/home/adienl\n"
     ]
     "output_type": "stream",
     
    }
   ],
   "source": [
    "cd /home/adienl\n"
   ]
  },
  {
   "cell_type": "code",
   "execution_count": 2,
   "metadata": {},
   "outputs": [],
   "source": [
    "import pandas as pd\n",
    "import numpy as np\n"
   ]
  },
  {
   "cell_type": "markdown",
   "metadata": {},
   "source": [
    "# Load the data\n"
   ]
  },
  {
   "cell_type": "code",
   "execution_count": 3,
   "metadata": {},
   "outputs": [
    {
     "data": {
      "text/html": [
       "<div>\n",
       "<style scoped>\n",
       "    .dataframe tbody tr th:only-of-type {\n",
       "        vertical-align: middle;\n",
       "    }\n",
       "\n",
       "    .dataframe tbody tr th {\n",
       "        vertical-align: top;\n",
       "    }\n",
       "\n",
       "    .dataframe thead th {\n",
       "        text-align: right;\n",
       "    }\n",
       "</style>\n",
       "<table border=\"1\" class=\"dataframe\">\n",
       "  <thead>\n",
       "    <tr style=\"text-align: right;\">\n",
       "      <th></th>\n",
       "      <th>label</th>\n",
       "      <th>SMS</th>\n",
       "    </tr>\n",
       "  </thead>\n",
       "  <tbody>\n",
       "    <tr>\n",
       "      <th>count</th>\n",
       "      <td>5572</td>\n",
       "      <td>5572</td>\n",
       "    </tr>\n",
       "    <tr>\n",
       "      <th>unique</th>\n",
       "      <td>2</td>\n",
       "      <td>5169</td>\n",
       "    </tr>\n",
       "    <tr>\n",
       "      <th>top</th>\n",
       "      <td>ham</td>\n",
       "      <td>Sorry, I'll call later</td>\n",
       "    </tr>\n",
       "    <tr>\n",
       "      <th>freq</th>\n",
       "      <td>4825</td>\n",
       "      <td>30</td>\n",
       "    </tr>\n",
       "  </tbody>\n",
       "</table>\n",
       "</div>"
      ],
      "text/plain": [
       "       label                     SMS\n",
       "count   5572                    5572\n",
       "unique     2                    5169\n",
       "top      ham  Sorry, I'll call later\n",
       "freq    4825                      30"
      ]
     },
     "execution_count": 3,
     "metadata": {},
     "output_type": "execute_result"
    }
   ],
   "source": [
    "df=pd.read_csv(\"SMSSpamCollection.tsv\",delimiter='\\t')\n",
    "df.head()\n",
    "df.describe()"
   ]
  },
  {
   "cell_type": "markdown",
   "metadata": {},
   "source": [
    "# Clean"
   ]
  },
  {
   "cell_type": "code",
   "execution_count": 4,
   "metadata": {},
   "outputs": [
    {
     "data": {
      "text/html": [
       "<div>\n",
       "<style scoped>\n",
       "    .dataframe tbody tr th:only-of-type {\n",
       "        vertical-align: middle;\n",
       "    }\n",
       "\n",
       "    .dataframe tbody tr th {\n",
       "        vertical-align: top;\n",
       "    }\n",
       "\n",
       "    .dataframe thead th {\n",
       "        text-align: right;\n",
       "    }\n",
       "</style>\n",
       "<table border=\"1\" class=\"dataframe\">\n",
       "  <thead>\n",
       "    <tr style=\"text-align: right;\">\n",
       "      <th></th>\n",
       "      <th>label</th>\n",
       "      <th>SMS</th>\n",
       "    </tr>\n",
       "  </thead>\n",
       "  <tbody>\n",
       "    <tr>\n",
       "      <th>count</th>\n",
       "      <td>5572</td>\n",
       "      <td>5572</td>\n",
       "    </tr>\n",
       "    <tr>\n",
       "      <th>unique</th>\n",
       "      <td>2</td>\n",
       "      <td>5169</td>\n",
       "    </tr>\n",
       "    <tr>\n",
       "      <th>top</th>\n",
       "      <td>ham</td>\n",
       "      <td>Sorry, I'll call later</td>\n",
       "    </tr>\n",
       "    <tr>\n",
       "      <th>freq</th>\n",
       "      <td>4825</td>\n",
       "      <td>30</td>\n",
       "    </tr>\n",
       "  </tbody>\n",
       "</table>\n",
       "</div>"
      ],
      "text/plain": [
       "       label                     SMS\n",
       "count   5572                    5572\n",
       "unique     2                    5169\n",
       "top      ham  Sorry, I'll call later\n",
       "freq    4825                      30"
      ]
     },
     "execution_count": 4,
     "metadata": {},
     "output_type": "execute_result"
    }
   ],
   "source": [
    "df.columns=['label','SMS']\n",
    "df.head()\n",
    "df.describe()"
   ]
  },
  {
   "cell_type": "markdown",
   "metadata": {},
   "source": [
    "# Drop Duplicates "
   ]
  },
  {
   "cell_type": "code",
   "execution_count": 12,
   "metadata": {},
   "outputs": [
    {
     "data": {
      "text/html": [
       "<div>\n",
       "<style scoped>\n",
       "    .dataframe tbody tr th:only-of-type {\n",
       "        vertical-align: middle;\n",
       "    }\n",
       "\n",
       "    .dataframe tbody tr th {\n",
       "        vertical-align: top;\n",
       "    }\n",
       "\n",
       "    .dataframe thead th {\n",
       "        text-align: right;\n",
       "    }\n",
       "</style>\n",
       "<table border=\"1\" class=\"dataframe\">\n",
       "  <thead>\n",
       "    <tr style=\"text-align: right;\">\n",
       "      <th></th>\n",
       "      <th>label</th>\n",
       "      <th>SMS</th>\n",
       "    </tr>\n",
       "  </thead>\n",
       "  <tbody>\n",
       "    <tr>\n",
       "      <th>count</th>\n",
       "      <td>5169</td>\n",
       "      <td>5169</td>\n",
       "    </tr>\n",
       "    <tr>\n",
       "      <th>unique</th>\n",
       "      <td>2</td>\n",
       "      <td>5169</td>\n",
       "    </tr>\n",
       "    <tr>\n",
       "      <th>top</th>\n",
       "      <td>ham</td>\n",
       "      <td>Is ur paper in e morn or aft tmr?</td>\n",
       "    </tr>\n",
       "    <tr>\n",
       "      <th>freq</th>\n",
       "      <td>4516</td>\n",
       "      <td>1</td>\n",
       "    </tr>\n",
       "  </tbody>\n",
       "</table>\n",
       "</div>"
      ],
      "text/plain": [
       "       label                                SMS\n",
       "count   5169                               5169\n",
       "unique     2                               5169\n",
       "top      ham  Is ur paper in e morn or aft tmr?\n",
       "freq    4516                                  1"
      ]
     },
     "execution_count": 12,
     "metadata": {},
     "output_type": "execute_result"
    }
   ],
   "source": [
    "df.drop_duplicates(subset='SMS',inplace=True)\n",
    "df.describe()"
   ]
  },
  {
   "cell_type": "markdown",
   "metadata": {},
   "source": [
    "# Seperate training and test data "
   ]
  },
  {
   "cell_type": "code",
   "execution_count": 13,
   "metadata": {},
   "outputs": [
    {
     "name": "stdout",
     "output_type": "stream",
     "text": [
      "Shape of X is (5169,)\n",
      "Shape of X_train is (3876,) and shape of y_train is (3876,)\n",
      "Shape of X_test is (1293,) and shape of y_test is (1293,)\n"
     ]
    }
   ],
   "source": [
    "from sklearn.model_selection import train_test_split\n",
    "\n",
    "X = df['SMS']\n",
    "y = df['label']\n",
    "\n",
    "X_train, X_test, y_train, y_test = train_test_split(X, y, random_state=42)\n",
    "\n",
    "print(\"Shape of X is {}\".format(X.shape))\n",
    "print(\"Shape of X_train is {} and shape of y_train is {}\".format(X_train.shape, y_train.shape))\n",
    "print(\"Shape of X_test is {} and shape of y_test is {}\".format(X_test.shape, y_test.shape))\n",
    "\n",
    "train_corpus = list(X_train)"
   ]
  },
  {
   "cell_type": "markdown",
   "metadata": {},
   "source": [
    "#  TFIDF Feature"
   ]
  },
  {
   "cell_type": "code",
   "execution_count": 15,
   "metadata": {},
   "outputs": [
    {
     "name": "stdout",
     "output_type": "stream",
     "text": [
      "Number of features = 5000\n",
      "Number of omitted words = 2277\n",
      "Shape of X_train_text_features is (3876, 5000)\n"
     ]
    }
   ],
   "source": [
    "from sklearn.feature_extraction.text import TfidfVectorizer\n",
    "vectorizer = TfidfVectorizer(max_features=5000)\n",
    "vectorizer.fit(train_corpus)\n",
    "\n",
    "print(\"Number of features = {}\".format(len(vectorizer.vocabulary_)))\n",
    "print(\"Number of omitted words = {}\".format(len(vectorizer.stop_words_)))\n",
    " \n",
    "X_train_text_features = vectorizer.transform(list(X_train))\n",
    "print(\"Shape of X_train_text_features is {}\".format(X_train_text_features.shape))\n"
   ]
  },
  {
   "cell_type": "markdown",
   "metadata": {},
   "source": [
    "# Logistic Regression\n"
   ]
  },
  {
   "cell_type": "code",
   "execution_count": 16,
   "metadata": {},
   "outputs": [
    {
     "name": "stderr",
     "output_type": "stream",
     "text": [
      "/home/adienl/anaconda3/lib/python3.7/site-packages/sklearn/linear_model/logistic.py:433: FutureWarning: Default solver will be changed to 'lbfgs' in 0.22. Specify a solver to silence this warning.\n",
      "  FutureWarning)\n"
     ]
    },
    {
     "data": {
      "text/plain": [
       "LogisticRegression(C=1.0, class_weight=None, dual=False, fit_intercept=True,\n",
       "          intercept_scaling=1, max_iter=100, multi_class='warn',\n",
       "          n_jobs=None, penalty='l2', random_state=42, solver='warn',\n",
       "          tol=0.0001, verbose=0, warm_start=False)"
      ]
     },
     "execution_count": 16,
     "metadata": {},
     "output_type": "execute_result"
    }
   ],
   "source": [
    "from sklearn.linear_model import LogisticRegression\n",
    "model = LogisticRegression(random_state=42)\n",
    "\n",
    "model.fit(X_train_text_features, y_train)"
   ]
  },
  {
   "cell_type": "code",
   "execution_count": 31,
   "metadata": {},
   "outputs": [
    {
     "name": "stdout",
     "output_type": "stream",
     "text": [
      "The fraction of correctly classified samples is 0.9723942208462333\n",
      "The number of correctly classified samples is 3769\n"
     ]
    },
    {
     "data": {
      "text/html": [
       "<div>\n",
       "<style scoped>\n",
       "    .dataframe tbody tr th:only-of-type {\n",
       "        vertical-align: middle;\n",
       "    }\n",
       "\n",
       "    .dataframe tbody tr th {\n",
       "        vertical-align: top;\n",
       "    }\n",
       "\n",
       "    .dataframe thead th {\n",
       "        text-align: right;\n",
       "    }\n",
       "</style>\n",
       "<table border=\"1\" class=\"dataframe\">\n",
       "  <thead>\n",
       "    <tr style=\"text-align: right;\">\n",
       "      <th></th>\n",
       "      <th>pred ham</th>\n",
       "      <th>pred spam</th>\n",
       "    </tr>\n",
       "  </thead>\n",
       "  <tbody>\n",
       "    <tr>\n",
       "      <th>true ham</th>\n",
       "      <td>3391</td>\n",
       "      <td>106</td>\n",
       "    </tr>\n",
       "    <tr>\n",
       "      <th>true spam</th>\n",
       "      <td>1</td>\n",
       "      <td>378</td>\n",
       "    </tr>\n",
       "  </tbody>\n",
       "</table>\n",
       "</div>"
      ],
      "text/plain": [
       "           pred ham  pred spam\n",
       "true ham       3391        106\n",
       "true spam         1        378"
      ]
     },
     "execution_count": 31,
     "metadata": {},
     "output_type": "execute_result"
    }
   ],
   "source": [
    "from sklearn.metrics import accuracy_score, confusion_matrix\n",
    "\n",
    "y_train_predicted = model.predict(X_train_text_features)\n",
    "\n",
    "print(\"The fraction of correctly classified samples is {}\".format(accuracy_score(y_train, y_train_predicted)))\n",
    "print(\"The number of correctly classified samples is {}\".format(accuracy_score(y_train, \n",
    "                                                                               y_train_predicted, normalize=False)))\n",
    "pd.DataFrame(confusion_matrix(y_train_predicted, y_train), \n",
    "             index=['true ham', 'true spam'], \n",
    "             columns=['pred ham', 'pred spam'])"
   ]
  },
  {
   "cell_type": "markdown",
   "metadata": {},
   "source": [
    "# Cross Validation "
   ]
  },
  {
   "cell_type": "code",
   "execution_count": 20,
   "metadata": {},
   "outputs": [
    {
     "name": "stdout",
     "output_type": "stream",
     "text": [
      "[0.95489691 0.95360825 0.95096774 0.95870968 0.95865633]\n"
     ]
    }
   ],
   "source": [
    "from sklearn.model_selection import cross_val_score\n",
    "\n",
    "lr_model = LogisticRegression()\n",
    "cv_scores = cross_val_score(lr_model, X=X_train_text_features, y=y_train, cv=5, n_jobs=4)\n",
    "print(cv_scores)\n"
   ]
  },
  {
   "cell_type": "markdown",
   "metadata": {},
   "source": [
    "# Using model on Test Data\n"
   ]
  },
  {
   "cell_type": "code",
   "execution_count": 32,
   "metadata": {},
   "outputs": [
    {
     "name": "stdout",
     "output_type": "stream",
     "text": [
      "The fraction of correctly classified samples is 0.9682907965970611\n",
      "The number of correctly classified samples is 1252\n"
     ]
    },
    {
     "data": {
      "text/html": [
       "<div>\n",
       "<style scoped>\n",
       "    .dataframe tbody tr th:only-of-type {\n",
       "        vertical-align: middle;\n",
       "    }\n",
       "\n",
       "    .dataframe tbody tr th {\n",
       "        vertical-align: top;\n",
       "    }\n",
       "\n",
       "    .dataframe thead th {\n",
       "        text-align: right;\n",
       "    }\n",
       "</style>\n",
       "<table border=\"1\" class=\"dataframe\">\n",
       "  <thead>\n",
       "    <tr style=\"text-align: right;\">\n",
       "      <th></th>\n",
       "      <th>pred ham</th>\n",
       "      <th>pred spam</th>\n",
       "    </tr>\n",
       "  </thead>\n",
       "  <tbody>\n",
       "    <tr>\n",
       "      <th>true ham</th>\n",
       "      <td>1121</td>\n",
       "      <td>38</td>\n",
       "    </tr>\n",
       "    <tr>\n",
       "      <th>true spam</th>\n",
       "      <td>3</td>\n",
       "      <td>131</td>\n",
       "    </tr>\n",
       "  </tbody>\n",
       "</table>\n",
       "</div>"
      ],
      "text/plain": [
       "           pred ham  pred spam\n",
       "true ham       1121         38\n",
       "true spam         3        131"
      ]
     },
     "execution_count": 32,
     "metadata": {},
     "output_type": "execute_result"
    }
   ],
   "source": [
    "X_test_features = vectorizer.transform(list(X_test)) #Used the same vectorizer obtained through X_train\n",
    "y_test_predicted = model.predict(X_test_features)\n",
    "\n",
    "print(\"The fraction of correctly classified samples is {}\".format(accuracy_score(y_test, y_test_predicted)))\n",
    "print(\"The number of correctly classified samples is {}\".format(accuracy_score(y_test, y_test_predicted, normalize=False)))\n",
    "\n",
    "pd.DataFrame(confusion_matrix(y_test_predicted, y_test), \n",
    "             index={'true ham', 'true spam'}, \n",
    "             columns={'pred spam', 'pred ham'})"
   ]
  },
  {
   "cell_type": "markdown",
   "metadata": {},
   "source": [
    "# PR Curve"
   ]
  },
  {
   "cell_type": "code",
   "execution_count": 40,
   "metadata": {},
   "outputs": [
    {
     "data": {
      "image/png": "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\n",
      "text/plain": [
       "<Figure size 432x288 with 1 Axes>"
      ]
     },
     "metadata": {
      "needs_background": "light"
     },
     "output_type": "display_data"
    }
   ],
   "source": [
    "import matplotlib.pyplot as plt\n",
    "import numpy as npf\n",
    "from sklearn.metrics import precision_recall_curve\n",
    "\n",
    "def get_binary_label(label):\n",
    "    if label == 'spam':\n",
    "        return 1\n",
    "    else:\n",
    "        return 0\n",
    "    \n",
    "y_true = [get_binary_label(label) for label in list(y_test)] \n",
    "y_scores = np.array([probas[1] for probas in list(model.predict_proba(X_test_features))])\n",
    "precision, recall, thresholds = precision_recall_curve(y_true, y_scores)\n",
    "\n",
    "plt.plot(precision, recall, marker='.')\n",
    "# show the plot\n",
    "plt.show()\n"
   ]
  },
  {
   "cell_type": "markdown",
   "metadata": {},
   "source": [
    " We used a simple Logistic Regression model to model the binary dependent variable 'label'. We have been given this data and we want to model whether an email is ham or spam given this data. So we maximise the probability of an email being ham or spam given this data. Then we use MLE to find the parameter(there will be just 2 because we have only one independent variable 'SMS'). Then we use this model for prediction on the test split."
   ]
  },
  {
   "cell_type": "markdown",
   "metadata": {},
   "source": [
    "#  K-nearest neighbors"
   ]
  },
  {
   "cell_type": "code",
   "execution_count": 66,
   "metadata": {},
   "outputs": [
    {
     "name": "stdout",
     "output_type": "stream",
     "text": [
      "[0.89948454 0.90592784 0.90709677 0.91096774 0.91472868]\n",
      "The fraction of correctly classified samples is 0.9621036349574633\n",
      "The number of correctly classified samples is 1244\n"
     ]
    },
    {
     "data": {
      "text/html": [
       "<div>\n",
       "<style scoped>\n",
       "    .dataframe tbody tr th:only-of-type {\n",
       "        vertical-align: middle;\n",
       "    }\n",
       "\n",
       "    .dataframe tbody tr th {\n",
       "        vertical-align: top;\n",
       "    }\n",
       "\n",
       "    .dataframe thead th {\n",
       "        text-align: right;\n",
       "    }\n",
       "</style>\n",
       "<table border=\"1\" class=\"dataframe\">\n",
       "  <thead>\n",
       "    <tr style=\"text-align: right;\">\n",
       "      <th></th>\n",
       "      <th>pred ham</th>\n",
       "      <th>pred spam</th>\n",
       "    </tr>\n",
       "  </thead>\n",
       "  <tbody>\n",
       "    <tr>\n",
       "      <th>true ham</th>\n",
       "      <td>1124</td>\n",
       "      <td>49</td>\n",
       "    </tr>\n",
       "    <tr>\n",
       "      <th>true spam</th>\n",
       "      <td>0</td>\n",
       "      <td>120</td>\n",
       "    </tr>\n",
       "  </tbody>\n",
       "</table>\n",
       "</div>"
      ],
      "text/plain": [
       "           pred ham  pred spam\n",
       "true ham       1124         49\n",
       "true spam         0        120"
      ]
     },
     "execution_count": 66,
     "metadata": {},
     "output_type": "execute_result"
    }
   ],
   "source": [
    "from sklearn.neighbors import KNeighborsClassifier as KNN\n",
    "model=KNN(n_neighbors=25)\n",
    "model.fit(X_train_text_features,y_train)\n",
    "y_test_predicted=model.predict(X_test_features)\n",
    "from sklearn.model_selection import cross_val_score\n",
    "\n",
    "\n",
    "cv_scores = cross_val_score(lr_model, X=X_train_text_features, y=y_train, cv=5, n_jobs=4)\n",
    "print(cv_scores)\n",
    "print(\"The fraction of correctly classified samples is {}\".format(accuracy_score(y_test, y_test_predicted)))\n",
    "print(\"The number of correctly classified samples is {}\".format(accuracy_score(y_test, y_test_predicted, normalize=False)))\n",
    "\n",
    "pd.DataFrame(confusion_matrix(y_test_predicted, y_test), \n",
    "             index={'true ham', 'true spam'}, \n",
    "             columns={'pred spam', 'pred ham'})"
   ]
  },
  {
   "cell_type": "markdown",
   "metadata": {},
   "source": [
    "# PR Curve "
   ]
  },
  {
   "cell_type": "code",
   "execution_count": 67,
   "metadata": {},
   "outputs": [
    {
     "data": {
      "image/png": "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\n",
      "text/plain": [
       "<Figure size 432x288 with 1 Axes>"
      ]
     },
     "metadata": {
      "needs_background": "light"
     },
     "output_type": "display_data"
    }
   ],
   "source": [
    "import matplotlib.pyplot as plt\n",
    "import numpy as npf\n",
    "from sklearn.metrics import precision_recall_curve\n",
    "\n",
    "def get_binary_label(label):\n",
    "    if label == 'spam':\n",
    "        return 1\n",
    "    else:\n",
    "        return 0\n",
    "    \n",
    "y_true = [get_binary_label(label) for label in list(y_test)] \n",
    "y_scores = np.array([probas[1] for probas in list(model.predict_proba(X_test_features))])\n",
    "precision, recall, thresholds = precision_recall_curve(y_true, y_scores)\n",
    "\n",
    "plt.plot(precision, recall, marker='.')\n",
    "# show the plot\n",
    "plt.show()"
   ]
  },
  {
   "cell_type": "markdown",
   "metadata": {},
   "source": [
    "The k nearest neighbors method takes the vote of the 'nearest' k neighbors, and classifies an email as spam or ham. 'Nearest' is defined according to a metric, which is usually the Euclidean Metric for numerical vairables. Here we have converted our SMS to numerical features using TDF-IDF."
   ]
  },
  {
   "cell_type": "markdown",
   "metadata": {},
   "source": [
    "# RFC Model "
   ]
  },
  {
   "cell_type": "code",
   "execution_count": 69,
   "metadata": {},
   "outputs": [
    {
     "name": "stderr",
     "output_type": "stream",
     "text": [
      "/home/adienl/anaconda3/lib/python3.7/site-packages/sklearn/ensemble/forest.py:246: FutureWarning: The default value of n_estimators will change from 10 in version 0.20 to 100 in 0.22.\n",
      "  \"10 in version 0.20 to 100 in 0.22.\", FutureWarning)\n"
     ]
    },
    {
     "name": "stdout",
     "output_type": "stream",
     "text": [
      "[0.89948454 0.90592784 0.90709677 0.91096774 0.91472868]\n",
      "The fraction of correctly classified samples is 0.9690641918020109\n",
      "The number of correctly classified samples is 1253\n"
     ]
    },
    {
     "data": {
      "text/html": [
       "<div>\n",
       "<style scoped>\n",
       "    .dataframe tbody tr th:only-of-type {\n",
       "        vertical-align: middle;\n",
       "    }\n",
       "\n",
       "    .dataframe tbody tr th {\n",
       "        vertical-align: top;\n",
       "    }\n",
       "\n",
       "    .dataframe thead th {\n",
       "        text-align: right;\n",
       "    }\n",
       "</style>\n",
       "<table border=\"1\" class=\"dataframe\">\n",
       "  <thead>\n",
       "    <tr style=\"text-align: right;\">\n",
       "      <th></th>\n",
       "      <th>pred ham</th>\n",
       "      <th>pred spam</th>\n",
       "    </tr>\n",
       "  </thead>\n",
       "  <tbody>\n",
       "    <tr>\n",
       "      <th>true ham</th>\n",
       "      <td>1119</td>\n",
       "      <td>35</td>\n",
       "    </tr>\n",
       "    <tr>\n",
       "      <th>true spam</th>\n",
       "      <td>5</td>\n",
       "      <td>134</td>\n",
       "    </tr>\n",
       "  </tbody>\n",
       "</table>\n",
       "</div>"
      ],
      "text/plain": [
       "           pred ham  pred spam\n",
       "true ham       1119         35\n",
       "true spam         5        134"
      ]
     },
     "execution_count": 69,
     "metadata": {},
     "output_type": "execute_result"
    }
   ],
   "source": [
    "from sklearn.ensemble import RandomForestClassifier as RFC\n",
    "model=RFC()\n",
    "model.fit(X_train_text_features,y_train)\n",
    "y_test_predicted=model.predict(X_test_features)\n",
    "from sklearn.model_selection import cross_val_score\n",
    "\n",
    "\n",
    "cv_scores = cross_val_score(lr_model, X=X_train_text_features, y=y_train, cv=5, n_jobs=4)\n",
    "print(cv_scores)\n",
    "print(\"The fraction of correctly classified samples is {}\".format(accuracy_score(y_test, y_test_predicted)))\n",
    "print(\"The number of correctly classified samples is {}\".format(accuracy_score(y_test, y_test_predicted, normalize=False)))\n",
    "\n",
    "pd.DataFrame(confusion_matrix(y_test_predicted, y_test), \n",
    "             index={'true ham', 'true spam'}, \n",
    "             columns={'pred spam', 'pred ham'})"
   ]
  },
  {
   "cell_type": "markdown",
   "metadata": {},
   "source": [
    "# PR Curve "
   ]
  },
  {
   "cell_type": "code",
   "execution_count": 70,
   "metadata": {},
   "outputs": [
    {
     "data": {
      "image/png": "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\n",
      "text/plain": [
       "<Figure size 432x288 with 1 Axes>"
      ]
     },
     "metadata": {
      "needs_background": "light"
     },
     "output_type": "display_data"
    }
   ],
   "source": [
    "import matplotlib.pyplot as plt\n",
    "import numpy as npf\n",
    "from sklearn.metrics import precision_recall_curve\n",
    "\n",
    "def get_binary_label(label):\n",
    "    if label == 'spam':\n",
    "        return 1\n",
    "    else:\n",
    "        return 0\n",
    "    \n",
    "y_true = [get_binary_label(label) for label in list(y_test)] \n",
    "y_scores = np.array([probas[1] for probas in list(model.predict_proba(X_test_features))])\n",
    "precision, recall, thresholds = precision_recall_curve(y_true, y_scores)\n",
    "\n",
    "plt.plot(precision, recall, marker='.')\n",
    "# show the plot\n",
    "plt.show()"
   ]
  },
  {
   "cell_type": "markdown",
   "metadata": {},
   "source": [
    "Random Forest Classifier works by contructing a multitude of Decision Trees for the training set. \n",
    "It outputs the class for an input from the test set as the mode of the classes('spam' and 'ham' in this case). In other \n",
    "words, Random Forest Classifier creates a set of decision trees, and for each tree randomly selects features for constructing each tree. The output is then produced as the mode of all the outputs from the constructed set of decision \n",
    "trees."
   ]
  }
 ],
 "metadata": {
  "kernelspec": {
   "display_name": "Python 3",
   "language": "python",
   "name": "python3"
  },
  "language_info": {
   "codemirror_mode": {
    "name": "ipython",
    "version": 3
   },
   "file_extension": ".py",
   "mimetype": "text/x-python",
   "name": "python",
   "nbconvert_exporter": "python",
   "pygments_lexer": "ipython3",
   "version": "3.7.1"
  }
 },
 "nbformat": 4,
 "nbformat_minor": 2
}
